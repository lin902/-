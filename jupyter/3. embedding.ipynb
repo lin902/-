{
 "cells": [
  {
   "metadata": {},
   "cell_type": "markdown",
   "source": "# 调用EMBEDDING api",
   "id": "fec884d1cdad6088"
  },
  {
   "cell_type": "code",
   "id": "initial_id",
   "metadata": {
    "collapsed": true,
    "ExecuteTime": {
     "end_time": "2024-06-24T13:13:37.220929Z",
     "start_time": "2024-06-24T13:13:36.480932Z"
    }
   },
   "source": [
    "from dotenv import load_dotenv, find_dotenv\n",
    "from zhipuai import ZhipuAI\n",
    "import os\n",
    "\n",
    "_ = load_dotenv(find_dotenv())\n",
    "\n",
    "def zhipu_embedding(text: str):\n",
    "\n",
    "    api_key = os.environ['ZHIPUAI_API_KEY']\n",
    "    client = ZhipuAI(api_key=api_key)\n",
    "    response = client.embeddings.create(\n",
    "        model=\"embedding-2\",\n",
    "        input=text,\n",
    "    )\n",
    "    return response\n",
    "\n",
    "text = '要生成 embedding 的输入文本，字符串形式。'\n",
    "response = zhipu_embedding(text=text)\n"
   ],
   "outputs": [],
   "execution_count": 4
  },
  {
   "metadata": {
    "ExecuteTime": {
     "end_time": "2024-06-24T13:13:37.227537Z",
     "start_time": "2024-06-24T13:13:37.222851Z"
    }
   },
   "cell_type": "code",
   "source": [
    "print(f'response类型为：{type(response)}')\n",
    "print(f'embedding类型为：{response.object}')\n",
    "print(f'生成embedding的model为：{response.model}')\n",
    "print(f'生成的embedding长度为：{len(response.data[0].embedding)}')\n",
    "print(f'embedding（前10）为: {response.data[0].embedding[:10]}')\n"
   ],
   "id": "5a4967bbb8902196",
   "outputs": [
    {
     "name": "stdout",
     "output_type": "stream",
     "text": [
      "response类型为：<class 'zhipuai.types.embeddings.EmbeddingsResponded'>\n",
      "embedding类型为：list\n",
      "生成embedding的model为：embedding-2\n",
      "生成的embedding长度为：1024\n",
      "embedding（前10）为: [0.017893229, 0.064432174, -0.009351327, 0.027082685, 0.0040648775, -0.05599671, -0.042226028, -0.030019397, -0.01632937, 0.067769825]\n"
     ]
    }
   ],
   "execution_count": 5
  },
  {
   "metadata": {},
   "cell_type": "markdown",
   "source": "# 数据处理",
   "id": "e5880c29bd64a7e6"
  },
  {
   "metadata": {
    "ExecuteTime": {
     "end_time": "2024-06-24T13:13:37.249070Z",
     "start_time": "2024-06-24T13:13:37.229698Z"
    }
   },
   "cell_type": "code",
   "source": [
    "# 先看一下路径\n",
    "# 计算上一级目录的路径\n",
    "current_path = os.getcwd()\n",
    "parent_path = os.path.dirname(current_path)\n",
    "\n",
    "# 获取上一级目录下的所有文件和文件夹\n",
    "file_list = os.listdir(parent_path)\n",
    "\n",
    "# 输出上一级目录下的全部文件名\n",
    "print(\"上一级目录下的文件名:\")\n",
    "for file in file_list:\n",
    "    print(file)"
   ],
   "id": "934c50c7973764db",
   "outputs": [
    {
     "name": "stdout",
     "output_type": "stream",
     "text": [
      "上一级目录下的文件名:\n",
      ".jupyter\n",
      "Miniconda3-py310_23.1.0-1-Linux-x86_64.sh.1\n",
      ".ICEauthority\n",
      ".ssh\n",
      "logs\n",
      ".config\n",
      ".docker\n",
      ".kshrc\n",
      "java_error_in_pycharm_22508.log\n",
      "config2.yaml\n",
      "jhspoolers\n",
      "Desktop\n",
      ".bash_history\n",
      "Videos\n",
      "Miniconda3-py310_23.1.0-1-Linux-x86_64.sh\n",
      "jhaidata\n",
      ".java\n",
      ".vscode\n",
      ".bashrc.swo\n",
      ".local\n",
      ".dbus\n",
      ".condarc\n",
      ".recycle_bin\n",
      "java_error_in_pycharm_.hprof\n",
      ".virtual_documents\n",
      ".dotnet\n",
      ".nv\n",
      "Templates\n",
      "java_error_in_pycharm_22219.log\n",
      ".filedownload\n",
      "pycharm-2024.1.3\n",
      ".metagpt\n",
      "Public\n",
      ".zshrc\n",
      ".bash_logout\n",
      ".jhjobs\n",
      ".pycharm_helpers\n",
      ".pki\n",
      "EfficientNetV2\n",
      "java_error_in_pycharm_22978.log\n",
      "ToolBench\n",
      ".gnupg\n",
      "test.zip\n",
      "MetaGPT\n",
      ".jhshares\n",
      "jupyter\n",
      "pycharm-2020.1.5\n",
      ".xfce4-session.verbose-log\n",
      "test\n",
      "miniconda3\n",
      ".conda\n",
      "jhupload\n",
      "ms-python.debugpy-2024.0.0@linux-x64.vsix\n",
      "env\n",
      "Music\n",
      "Documents\n",
      ".python_history\n",
      ".ipython\n",
      ".bash_profile\n",
      "Downloads\n",
      "nltk_data\n",
      ".jhclip\n",
      "Pictures\n",
      ".mozilla\n",
      ".viminfo\n",
      "llm-universe\n",
      ".cache\n",
      ".bashrc\n"
     ]
    }
   ],
   "execution_count": 6
  },
  {
   "metadata": {},
   "cell_type": "markdown",
   "source": "## pdf文档读取",
   "id": "1b14059823a4f92"
  },
  {
   "metadata": {
    "ExecuteTime": {
     "end_time": "2024-06-24T13:13:37.846506Z",
     "start_time": "2024-06-24T13:13:37.250936Z"
    }
   },
   "cell_type": "code",
   "source": [
    "from langchain.document_loaders.pdf import PyMuPDFLoader\n",
    "# print(os.getcwd())\n",
    "# print(os.path.dirname(os.getcwd()))\n",
    "# 创建一个 PyMuPDFLoader Class 实例，输入为待加载的 pdf 文档路径\n",
    "loader = PyMuPDFLoader(\"../llm-universe/data_base/knowledge_db/pumkin_book/pumpkin_book.pdf\") # 路径一定要对\n",
    "\n",
    "# 调用 PyMuPDFLoader Class 的函数 load 对 pdf 文件进行加载\n",
    "pdf_pages = loader.load()\n"
   ],
   "id": "73ab4408edd0f12",
   "outputs": [],
   "execution_count": 7
  },
  {
   "metadata": {
    "ExecuteTime": {
     "end_time": "2024-06-24T13:13:37.851789Z",
     "start_time": "2024-06-24T13:13:37.847746Z"
    }
   },
   "cell_type": "code",
   "source": "print(f\"载入后的变量类型为：{type(pdf_pages)}，\",  f\"该 PDF 一共包含 {len(pdf_pages)} 页\")\n",
   "id": "750f522283a9f7a9",
   "outputs": [
    {
     "name": "stdout",
     "output_type": "stream",
     "text": [
      "载入后的变量类型为：<class 'list'>， 该 PDF 一共包含 196 页\n"
     ]
    }
   ],
   "execution_count": 8
  },
  {
   "metadata": {
    "ExecuteTime": {
     "end_time": "2024-06-24T13:13:37.863481Z",
     "start_time": "2024-06-24T13:13:37.854187Z"
    }
   },
   "cell_type": "code",
   "source": [
    "pdf_page = pdf_pages[1]\n",
    "print(f\"每一个元素的类型：{type(pdf_page)}.\", \n",
    "    f\"该文档的描述性数据：{pdf_page.metadata}\", \n",
    "    f\"查看该文档的内容:\\n{pdf_page.page_content}\", \n",
    "    sep=\"\\n------\\n\")\n"
   ],
   "id": "68761275ee20eff9",
   "outputs": [
    {
     "name": "stdout",
     "output_type": "stream",
     "text": [
      "每一个元素的类型：<class 'langchain_core.documents.base.Document'>.\n",
      "------\n",
      "该文档的描述性数据：{'source': '../llm-universe/data_base/knowledge_db/pumkin_book/pumpkin_book.pdf', 'file_path': '../llm-universe/data_base/knowledge_db/pumkin_book/pumpkin_book.pdf', 'page': 1, 'total_pages': 196, 'format': 'PDF 1.5', 'title': '', 'author': '', 'subject': '', 'keywords': '', 'creator': 'LaTeX with hyperref', 'producer': 'xdvipdfmx (20200315)', 'creationDate': \"D:20230303170709-00'00'\", 'modDate': '', 'trapped': ''}\n",
      "------\n",
      "查看该文档的内容:\n",
      "前言\n",
      "“周志华老师的《机器学习》\n",
      "（西瓜书）是机器学习领域的经典入门教材之一，周老师为了使尽可能多的读\n",
      "者通过西瓜书对机器学习有所了解, 所以在书中对部分公式的推导细节没有详述，但是这对那些想深究公式推\n",
      "导细节的读者来说可能“不太友好”\n",
      "，本书旨在对西瓜书里比较难理解的公式加以解析，以及对部分公式补充\n",
      "具体的推导细节。\n",
      "”\n",
      "读到这里，大家可能会疑问为啥前面这段话加了引号，因为这只是我们最初的遐想，后来我们了解到，周\n",
      "老师之所以省去这些推导细节的真实原因是，他本尊认为“理工科数学基础扎实点的大二下学生应该对西瓜书\n",
      "中的推导细节无困难吧，要点在书里都有了，略去的细节应能脑补或做练习”\n",
      "。所以...... 本南瓜书只能算是我\n",
      "等数学渣渣在自学的时候记下来的笔记，希望能够帮助大家都成为一名合格的“理工科数学基础扎实点的大二\n",
      "下学生”\n",
      "。\n",
      "使用说明\n",
      "• 南瓜书的所有内容都是以西瓜书的内容为前置知识进行表述的，所以南瓜书的最佳使用方法是以西瓜书\n",
      "为主线，遇到自己推导不出来或者看不懂的公式时再来查阅南瓜书；\n",
      "• 对于初学机器学习的小白，西瓜书第1 章和第2 章的公式强烈不建议深究，简单过一下即可，等你学得\n",
      "有点飘的时候再回来啃都来得及；\n",
      "• 每个公式的解析和推导我们都力(zhi) 争(neng) 以本科数学基础的视角进行讲解，所以超纲的数学知识\n",
      "我们通常都会以附录和参考文献的形式给出，感兴趣的同学可以继续沿着我们给的资料进行深入学习；\n",
      "• 若南瓜书里没有你想要查阅的公式，\n",
      "或者你发现南瓜书哪个地方有错误，\n",
      "请毫不犹豫地去我们GitHub 的\n",
      "Issues（地址：https://github.com/datawhalechina/pumpkin-book/issues）进行反馈，在对应版块\n",
      "提交你希望补充的公式编号或者勘误信息，我们通常会在24 小时以内给您回复，超过24 小时未回复的\n",
      "话可以微信联系我们（微信号：at-Sm1les）\n",
      "；\n",
      "配套视频教程：https://www.bilibili.com/video/BV1Mh411e7VU\n",
      "在线阅读地址：https://datawhalechina.github.io/pumpkin-book（仅供第1 版）\n",
      "最新版PDF 获取地址：https://github.com/datawhalechina/pumpkin-book/releases\n",
      "编委会\n",
      "主编：Sm1les、archwalker、jbb0523\n",
      "编委：juxiao、Majingmin、MrBigFan、shanry、Ye980226\n",
      "封面设计：构思-Sm1les、创作-林王茂盛\n",
      "致谢\n",
      "特别感谢awyd234、\n",
      "feijuan、\n",
      "Ggmatch、\n",
      "Heitao5200、\n",
      "huaqing89、\n",
      "LongJH、\n",
      "LilRachel、\n",
      "LeoLRH、\n",
      "Nono17、\n",
      "spareribs、sunchaothu、StevenLzq 在最早期的时候对南瓜书所做的贡献。\n",
      "扫描下方二维码，然后回复关键词“南瓜书”\n",
      "，即可加入“南瓜书读者交流群”\n",
      "版权声明\n",
      "本作品采用知识共享署名-非商业性使用-相同方式共享4.0 国际许可协议进行许可。\n",
      "\n"
     ]
    }
   ],
   "execution_count": 9
  },
  {
   "metadata": {},
   "cell_type": "markdown",
   "source": "## MD文档读取",
   "id": "6d2bb2634f46b91f"
  },
  {
   "metadata": {
    "ExecuteTime": {
     "end_time": "2024-06-24T13:13:41.193495Z",
     "start_time": "2024-06-24T13:13:37.865204Z"
    }
   },
   "cell_type": "code",
   "source": [
    "from langchain.document_loaders.markdown import UnstructuredMarkdownLoader\n",
    "\n",
    "loader = UnstructuredMarkdownLoader(\"../llm-universe/data_base/knowledge_db/prompt_engineering/1. 简介 Introduction.md\")\n",
    "md_pages = loader.load()\n"
   ],
   "id": "79a5f87af6658e45",
   "outputs": [],
   "execution_count": 10
  },
  {
   "metadata": {
    "ExecuteTime": {
     "end_time": "2024-06-24T13:13:41.200284Z",
     "start_time": "2024-06-24T13:13:41.195104Z"
    }
   },
   "cell_type": "code",
   "source": [
    "print(f\"载入后的变量类型为：{type(md_pages)}，\",  f\"该 Markdown 一共包含 {len(md_pages)} 页\")\n",
    "md_page = md_pages[0]\n",
    "print(f\"每一个元素的类型：{type(md_page)}.\", \n",
    "    f\"该文档的描述性数据：{md_page.metadata}\", \n",
    "    f\"查看该文档的内容:\\n{md_page.page_content[0:][:200]}\", \n",
    "    sep=\"\\n------\\n\")\n"
   ],
   "id": "c83ec1fb9b66bf55",
   "outputs": [
    {
     "name": "stdout",
     "output_type": "stream",
     "text": [
      "载入后的变量类型为：<class 'list'>， 该 Markdown 一共包含 1 页\n",
      "每一个元素的类型：<class 'langchain_core.documents.base.Document'>.\n",
      "------\n",
      "该文档的描述性数据：{'source': '../llm-universe/data_base/knowledge_db/prompt_engineering/1. 简介 Introduction.md'}\n",
      "------\n",
      "查看该文档的内容:\n",
      "第一章 简介\n",
      "\n",
      "欢迎来到面向开发者的提示工程部分，本部分内容基于吴恩达老师的《Prompt Engineering for Developer》课程进行编写。《Prompt Engineering for Developer》课程是由吴恩达老师与 OpenAI 技术团队成员 Isa Fulford 老师合作授课，Isa 老师曾开发过受欢迎的 ChatGPT 检索插件，并且在教授 LLM （Larg\n"
     ]
    }
   ],
   "execution_count": 11
  },
  {
   "metadata": {},
   "cell_type": "markdown",
   "source": "## 数据清洗",
   "id": "17c1124a4474da0e"
  },
  {
   "metadata": {
    "ExecuteTime": {
     "end_time": "2024-06-24T13:13:41.214115Z",
     "start_time": "2024-06-24T13:13:41.201389Z"
    }
   },
   "cell_type": "code",
   "source": "print(pdf_page)",
   "id": "5b065b696db7f138",
   "outputs": [
    {
     "name": "stdout",
     "output_type": "stream",
     "text": [
      "page_content='前言\\n“周志华老师的《机器学习》\\n（西瓜书）是机器学习领域的经典入门教材之一，周老师为了使尽可能多的读\\n者通过西瓜书对机器学习有所了解, 所以在书中对部分公式的推导细节没有详述，但是这对那些想深究公式推\\n导细节的读者来说可能“不太友好”\\n，本书旨在对西瓜书里比较难理解的公式加以解析，以及对部分公式补充\\n具体的推导细节。\\n”\\n读到这里，大家可能会疑问为啥前面这段话加了引号，因为这只是我们最初的遐想，后来我们了解到，周\\n老师之所以省去这些推导细节的真实原因是，他本尊认为“理工科数学基础扎实点的大二下学生应该对西瓜书\\n中的推导细节无困难吧，要点在书里都有了，略去的细节应能脑补或做练习”\\n。所以...... 本南瓜书只能算是我\\n等数学渣渣在自学的时候记下来的笔记，希望能够帮助大家都成为一名合格的“理工科数学基础扎实点的大二\\n下学生”\\n。\\n使用说明\\n• 南瓜书的所有内容都是以西瓜书的内容为前置知识进行表述的，所以南瓜书的最佳使用方法是以西瓜书\\n为主线，遇到自己推导不出来或者看不懂的公式时再来查阅南瓜书；\\n• 对于初学机器学习的小白，西瓜书第1 章和第2 章的公式强烈不建议深究，简单过一下即可，等你学得\\n有点飘的时候再回来啃都来得及；\\n• 每个公式的解析和推导我们都力(zhi) 争(neng) 以本科数学基础的视角进行讲解，所以超纲的数学知识\\n我们通常都会以附录和参考文献的形式给出，感兴趣的同学可以继续沿着我们给的资料进行深入学习；\\n• 若南瓜书里没有你想要查阅的公式，\\n或者你发现南瓜书哪个地方有错误，\\n请毫不犹豫地去我们GitHub 的\\nIssues（地址：https://github.com/datawhalechina/pumpkin-book/issues）进行反馈，在对应版块\\n提交你希望补充的公式编号或者勘误信息，我们通常会在24 小时以内给您回复，超过24 小时未回复的\\n话可以微信联系我们（微信号：at-Sm1les）\\n；\\n配套视频教程：https://www.bilibili.com/video/BV1Mh411e7VU\\n在线阅读地址：https://datawhalechina.github.io/pumpkin-book（仅供第1 版）\\n最新版PDF 获取地址：https://github.com/datawhalechina/pumpkin-book/releases\\n编委会\\n主编：Sm1les、archwalker、jbb0523\\n编委：juxiao、Majingmin、MrBigFan、shanry、Ye980226\\n封面设计：构思-Sm1les、创作-林王茂盛\\n致谢\\n特别感谢awyd234、\\nfeijuan、\\nGgmatch、\\nHeitao5200、\\nhuaqing89、\\nLongJH、\\nLilRachel、\\nLeoLRH、\\nNono17、\\nspareribs、sunchaothu、StevenLzq 在最早期的时候对南瓜书所做的贡献。\\n扫描下方二维码，然后回复关键词“南瓜书”\\n，即可加入“南瓜书读者交流群”\\n版权声明\\n本作品采用知识共享署名-非商业性使用-相同方式共享4.0 国际许可协议进行许可。\\n' metadata={'source': '../llm-universe/data_base/knowledge_db/pumkin_book/pumpkin_book.pdf', 'file_path': '../llm-universe/data_base/knowledge_db/pumkin_book/pumpkin_book.pdf', 'page': 1, 'total_pages': 196, 'format': 'PDF 1.5', 'title': '', 'author': '', 'subject': '', 'keywords': '', 'creator': 'LaTeX with hyperref', 'producer': 'xdvipdfmx (20200315)', 'creationDate': \"D:20230303170709-00'00'\", 'modDate': '', 'trapped': ''}\n"
     ]
    }
   ],
   "execution_count": 12
  },
  {
   "metadata": {
    "ExecuteTime": {
     "end_time": "2024-06-24T13:13:41.230152Z",
     "start_time": "2024-06-24T13:13:41.217284Z"
    }
   },
   "cell_type": "code",
   "source": [
    "# 处理掉字符之间换行/n，^\\u4e00-\\u9fff指非文字\n",
    "import re\n",
    "# print(pdf_page)\n",
    "pattern = re.compile(r'[^\\u4e00-\\u9fff](\\n)[^\\u4e00-\\u9fff]', re.DOTALL)\n",
    "# 换行符（\\n）替换为空字符串，但仅当这些换行符位于非汉字字符之间时。\n",
    "pdf_page.page_content = re.sub(pattern, lambda match: match.group(0).replace('\\n', ''), pdf_page.page_content)\n",
    "print(pdf_page.page_content)\n",
    "#\n",
    "# 句间换行没有了"
   ],
   "id": "fa16d8c72bfc89c8",
   "outputs": [
    {
     "name": "stdout",
     "output_type": "stream",
     "text": [
      "前言\n",
      "“周志华老师的《机器学习》（西瓜书）是机器学习领域的经典入门教材之一，周老师为了使尽可能多的读\n",
      "者通过西瓜书对机器学习有所了解, 所以在书中对部分公式的推导细节没有详述，但是这对那些想深究公式推\n",
      "导细节的读者来说可能“不太友好”，本书旨在对西瓜书里比较难理解的公式加以解析，以及对部分公式补充\n",
      "具体的推导细节。”\n",
      "读到这里，大家可能会疑问为啥前面这段话加了引号，因为这只是我们最初的遐想，后来我们了解到，周\n",
      "老师之所以省去这些推导细节的真实原因是，他本尊认为“理工科数学基础扎实点的大二下学生应该对西瓜书\n",
      "中的推导细节无困难吧，要点在书里都有了，略去的细节应能脑补或做练习”。所以...... 本南瓜书只能算是我\n",
      "等数学渣渣在自学的时候记下来的笔记，希望能够帮助大家都成为一名合格的“理工科数学基础扎实点的大二\n",
      "下学生”。\n",
      "使用说明\n",
      "• 南瓜书的所有内容都是以西瓜书的内容为前置知识进行表述的，所以南瓜书的最佳使用方法是以西瓜书\n",
      "为主线，遇到自己推导不出来或者看不懂的公式时再来查阅南瓜书；• 对于初学机器学习的小白，西瓜书第1 章和第2 章的公式强烈不建议深究，简单过一下即可，等你学得\n",
      "有点飘的时候再回来啃都来得及；• 每个公式的解析和推导我们都力(zhi) 争(neng) 以本科数学基础的视角进行讲解，所以超纲的数学知识\n",
      "我们通常都会以附录和参考文献的形式给出，感兴趣的同学可以继续沿着我们给的资料进行深入学习；• 若南瓜书里没有你想要查阅的公式，\n",
      "或者你发现南瓜书哪个地方有错误，\n",
      "请毫不犹豫地去我们GitHub 的\n",
      "Issues（地址：https://github.com/datawhalechina/pumpkin-book/issues）进行反馈，在对应版块\n",
      "提交你希望补充的公式编号或者勘误信息，我们通常会在24 小时以内给您回复，超过24 小时未回复的\n",
      "话可以微信联系我们（微信号：at-Sm1les）；\n",
      "配套视频教程：https://www.bilibili.com/video/BV1Mh411e7VU\n",
      "在线阅读地址：https://datawhalechina.github.io/pumpkin-book（仅供第1 版）\n",
      "最新版PDF 获取地址：https://github.com/datawhalechina/pumpkin-book/releases\n",
      "编委会\n",
      "主编：Sm1les、archwalker、jbb0523\n",
      "编委：juxiao、Majingmin、MrBigFan、shanry、Ye980226\n",
      "封面设计：构思-Sm1les、创作-林王茂盛\n",
      "致谢\n",
      "特别感谢awyd234、feijuan、Ggmatch、Heitao5200、huaqing89、LongJH、LilRachel、LeoLRH、Nono17、spareribs、sunchaothu、StevenLzq 在最早期的时候对南瓜书所做的贡献。\n",
      "扫描下方二维码，然后回复关键词“南瓜书”，即可加入“南瓜书读者交流群”\n",
      "版权声明\n",
      "本作品采用知识共享署名-非商业性使用-相同方式共享4.0 国际许可协议进行许可。\n",
      "\n"
     ]
    }
   ],
   "execution_count": 13
  },
  {
   "metadata": {
    "ExecuteTime": {
     "end_time": "2024-06-24T13:13:41.245132Z",
     "start_time": "2024-06-24T13:13:41.231430Z"
    }
   },
   "cell_type": "code",
   "source": [
    "# 处理句中字之间换行符号\n",
    "import re\n",
    "\n",
    "# 编译一个正则表达式模式，匹配汉字之间的换行符\n",
    "pattern = re.compile(r'[\\u4e00-\\u9fff]+(\\n)+[\\u4e00-\\u9fff]+', re.DOTALL)\n",
    "\n",
    "# 使用re.sub()函数替换匹配到的模式，将换行符替换为空字符串\n",
    "pdf_page.page_content = re.sub(pattern, lambda match: match.group().replace('\\n', ''), pdf_page.page_content)\n",
    "\n",
    "print(pdf_page.page_content)"
   ],
   "id": "56ec25aac06d95d8",
   "outputs": [
    {
     "name": "stdout",
     "output_type": "stream",
     "text": [
      "前言\n",
      "“周志华老师的《机器学习》（西瓜书）是机器学习领域的经典入门教材之一，周老师为了使尽可能多的读者通过西瓜书对机器学习有所了解, 所以在书中对部分公式的推导细节没有详述，但是这对那些想深究公式推导细节的读者来说可能“不太友好”，本书旨在对西瓜书里比较难理解的公式加以解析，以及对部分公式补充具体的推导细节。”\n",
      "读到这里，大家可能会疑问为啥前面这段话加了引号，因为这只是我们最初的遐想，后来我们了解到，周老师之所以省去这些推导细节的真实原因是，他本尊认为“理工科数学基础扎实点的大二下学生应该对西瓜书中的推导细节无困难吧，要点在书里都有了，略去的细节应能脑补或做练习”。所以...... 本南瓜书只能算是我等数学渣渣在自学的时候记下来的笔记，希望能够帮助大家都成为一名合格的“理工科数学基础扎实点的大二下学生”。\n",
      "使用说明\n",
      "• 南瓜书的所有内容都是以西瓜书的内容为前置知识进行表述的，所以南瓜书的最佳使用方法是以西瓜书为主线，遇到自己推导不出来或者看不懂的公式时再来查阅南瓜书；• 对于初学机器学习的小白，西瓜书第1 章和第2 章的公式强烈不建议深究，简单过一下即可，等你学得有点飘的时候再回来啃都来得及；• 每个公式的解析和推导我们都力(zhi) 争(neng) 以本科数学基础的视角进行讲解，所以超纲的数学知识我们通常都会以附录和参考文献的形式给出，感兴趣的同学可以继续沿着我们给的资料进行深入学习；• 若南瓜书里没有你想要查阅的公式，\n",
      "或者你发现南瓜书哪个地方有错误，\n",
      "请毫不犹豫地去我们GitHub 的\n",
      "Issues（地址：https://github.com/datawhalechina/pumpkin-book/issues）进行反馈，在对应版块提交你希望补充的公式编号或者勘误信息，我们通常会在24 小时以内给您回复，超过24 小时未回复的话可以微信联系我们（微信号：at-Sm1les）；\n",
      "配套视频教程：https://www.bilibili.com/video/BV1Mh411e7VU\n",
      "在线阅读地址：https://datawhalechina.github.io/pumpkin-book（仅供第1 版）\n",
      "最新版PDF 获取地址：https://github.com/datawhalechina/pumpkin-book/releases\n",
      "编委会主编：Sm1les、archwalker、jbb0523\n",
      "编委：juxiao、Majingmin、MrBigFan、shanry、Ye980226\n",
      "封面设计：构思-Sm1les、创作-林王茂盛致谢\n",
      "特别感谢awyd234、feijuan、Ggmatch、Heitao5200、huaqing89、LongJH、LilRachel、LeoLRH、Nono17、spareribs、sunchaothu、StevenLzq 在最早期的时候对南瓜书所做的贡献。\n",
      "扫描下方二维码，然后回复关键词“南瓜书”，即可加入“南瓜书读者交流群”\n",
      "版权声明本作品采用知识共享署名-非商业性使用-相同方式共享4.0 国际许可协议进行许可。\n",
      "\n"
     ]
    }
   ],
   "execution_count": 14
  },
  {
   "metadata": {
    "ExecuteTime": {
     "end_time": "2024-06-24T13:13:41.255838Z",
     "start_time": "2024-06-24T13:13:41.247521Z"
    }
   },
   "cell_type": "code",
   "source": [
    "pdf_page.page_content = pdf_page.page_content.replace('•', '')\n",
    "pdf_page.page_content = pdf_page.page_content.replace(' ', '')\n",
    "# pdf_page.page_content = pdf_page.page_content.replace('\\n', '') 不能直接全换，字与符号之间的换行有必要留\n",
    "print(pdf_page.page_content)\n",
    "# 处理 · 和空格\n",
    "#print(pdf_page)"
   ],
   "id": "7f078b9a91b1bd78",
   "outputs": [
    {
     "name": "stdout",
     "output_type": "stream",
     "text": [
      "前言\n",
      "“周志华老师的《机器学习》（西瓜书）是机器学习领域的经典入门教材之一，周老师为了使尽可能多的读者通过西瓜书对机器学习有所了解,所以在书中对部分公式的推导细节没有详述，但是这对那些想深究公式推导细节的读者来说可能“不太友好”，本书旨在对西瓜书里比较难理解的公式加以解析，以及对部分公式补充具体的推导细节。”\n",
      "读到这里，大家可能会疑问为啥前面这段话加了引号，因为这只是我们最初的遐想，后来我们了解到，周老师之所以省去这些推导细节的真实原因是，他本尊认为“理工科数学基础扎实点的大二下学生应该对西瓜书中的推导细节无困难吧，要点在书里都有了，略去的细节应能脑补或做练习”。所以......本南瓜书只能算是我等数学渣渣在自学的时候记下来的笔记，希望能够帮助大家都成为一名合格的“理工科数学基础扎实点的大二下学生”。\n",
      "使用说明\n",
      "南瓜书的所有内容都是以西瓜书的内容为前置知识进行表述的，所以南瓜书的最佳使用方法是以西瓜书为主线，遇到自己推导不出来或者看不懂的公式时再来查阅南瓜书；对于初学机器学习的小白，西瓜书第1章和第2章的公式强烈不建议深究，简单过一下即可，等你学得有点飘的时候再回来啃都来得及；每个公式的解析和推导我们都力(zhi)争(neng)以本科数学基础的视角进行讲解，所以超纲的数学知识我们通常都会以附录和参考文献的形式给出，感兴趣的同学可以继续沿着我们给的资料进行深入学习；若南瓜书里没有你想要查阅的公式，\n",
      "或者你发现南瓜书哪个地方有错误，\n",
      "请毫不犹豫地去我们GitHub的\n",
      "Issues（地址：https://github.com/datawhalechina/pumpkin-book/issues）进行反馈，在对应版块提交你希望补充的公式编号或者勘误信息，我们通常会在24小时以内给您回复，超过24小时未回复的话可以微信联系我们（微信号：at-Sm1les）；\n",
      "配套视频教程：https://www.bilibili.com/video/BV1Mh411e7VU\n",
      "在线阅读地址：https://datawhalechina.github.io/pumpkin-book（仅供第1版）\n",
      "最新版PDF获取地址：https://github.com/datawhalechina/pumpkin-book/releases\n",
      "编委会主编：Sm1les、archwalker、jbb0523\n",
      "编委：juxiao、Majingmin、MrBigFan、shanry、Ye980226\n",
      "封面设计：构思-Sm1les、创作-林王茂盛致谢\n",
      "特别感谢awyd234、feijuan、Ggmatch、Heitao5200、huaqing89、LongJH、LilRachel、LeoLRH、Nono17、spareribs、sunchaothu、StevenLzq在最早期的时候对南瓜书所做的贡献。\n",
      "扫描下方二维码，然后回复关键词“南瓜书”，即可加入“南瓜书读者交流群”\n",
      "版权声明本作品采用知识共享署名-非商业性使用-相同方式共享4.0国际许可协议进行许可。\n",
      "\n"
     ]
    }
   ],
   "execution_count": 15
  },
  {
   "metadata": {
    "ExecuteTime": {
     "end_time": "2024-06-24T13:13:41.268084Z",
     "start_time": "2024-06-24T13:13:41.257268Z"
    }
   },
   "cell_type": "code",
   "source": [
    "# 段与段之间还有换行符\n",
    "md_page.page_content = md_page.page_content.replace('\\n\\n', '\\n')\n",
    "print(md_page.page_content)\n"
   ],
   "id": "fa6cbda177d07264",
   "outputs": [
    {
     "name": "stdout",
     "output_type": "stream",
     "text": [
      "第一章 简介\n",
      "欢迎来到面向开发者的提示工程部分，本部分内容基于吴恩达老师的《Prompt Engineering for Developer》课程进行编写。《Prompt Engineering for Developer》课程是由吴恩达老师与 OpenAI 技术团队成员 Isa Fulford 老师合作授课，Isa 老师曾开发过受欢迎的 ChatGPT 检索插件，并且在教授 LLM （Large Language Model， 大语言模型）技术在产品中的应用方面做出了很大贡献。她还参与编写了教授人们使用 Prompt 的 OpenAI cookbook。我们希望通过本模块的学习，与大家分享使用提示词开发 LLM 应用的最佳实践和技巧。\n",
      "网络上有许多关于提示词（Prompt， 本教程中将保留该术语）设计的材料，例如《30 prompts everyone has to know》之类的文章，这些文章主要集中在 ChatGPT 的 Web 界面上，许多人在使用它执行特定的、通常是一次性的任务。但我们认为，对于开发人员，大语言模型（LLM） 的更强大功能是能通过 API 接口调用，从而快速构建软件应用程序。实际上，我们了解到 DeepLearning.AI 的姊妹公司 AI Fund 的团队一直在与许多初创公司合作，将这些技术应用于诸多应用程序上。很兴奋能看到 LLM API 能够让开发人员非常快速地构建应用程序。\n",
      "在本模块，我们将与读者分享提升大语言模型应用效果的各种技巧和最佳实践。书中内容涵盖广泛，包括软件开发提示词设计、文本总结、推理、转换、扩展以及构建聊天机器人等语言模型典型应用场景。我们衷心希望该课程能激发读者的想象力，开发出更出色的语言模型应用。\n",
      "随着 LLM 的发展，其大致可以分为两种类型，后续称为基础 LLM 和指令微调（Instruction Tuned）LLM。基础LLM是基于文本训练数据，训练出预测下一个单词能力的模型。其通常通过在互联网和其他来源的大量数据上训练，来确定紧接着出现的最可能的词。例如，如果你以“从前，有一只独角兽”作为 Prompt ，基础 LLM 可能会继续预测“她与独角兽朋友共同生活在一片神奇森林中”。但是，如果你以“法国的首都是什么”为 Prompt ，则基础 LLM 可能会根据互联网上的文章，将回答预测为“法国最大的城市是什么？法国的人口是多少？”，因为互联网上的文章很可能是有关法国国家的问答题目列表。\n",
      "与基础语言模型不同，指令微调 LLM 通过专门的训练，可以更好地理解并遵循指令。举个例子，当询问“法国的首都是什么？”时，这类模型很可能直接回答“法国的首都是巴黎”。指令微调 LLM 的训练通常基于预训练语言模型，先在大规模文本数据上进行预训练，掌握语言的基本规律。在此基础上进行进一步的训练与微调（finetune），输入是指令，输出是对这些指令的正确回复。有时还会采用RLHF（reinforcement learning from human feedback，人类反馈强化学习）技术，根据人类对模型输出的反馈进一步增强模型遵循指令的能力。通过这种受控的训练过程。指令微调 LLM 可以生成对指令高度敏感、更安全可靠的输出，较少无关和损害性内容。因此。许多实际应用已经转向使用这类大语言模型。\n",
      "因此，本课程将重点介绍针对指令微调 LLM 的最佳实践，我们也建议您将其用于大多数使用场景。当您使用指令微调 LLM 时，您可以类比为向另一个人提供指令（假设他很聪明但不知道您任务的具体细节）。因此，当 LLM 无法正常工作时，有时是因为指令不够清晰。例如，如果您想问“请为我写一些关于阿兰·图灵( Alan Turing )的东西”，在此基础上清楚表明您希望文本专注于他的科学工作、个人生活、历史角色或其他方面可能会更有帮助。另外您还可以指定回答的语调， 来更加满足您的需求，可选项包括专业记者写作，或者向朋友写的随笔等。\n",
      "如果你将 LLM 视为一名新毕业的大学生，要求他完成这个任务，你甚至可以提前指定他们应该阅读哪些文本片段来写关于阿兰·图灵的文本，这样能够帮助这位新毕业的大学生更好地完成这项任务。本书的下一章将详细阐释提示词设计的两个关键原则：清晰明确和给予充足思考时间。\n"
     ]
    }
   ],
   "execution_count": 16
  },
  {
   "metadata": {},
   "cell_type": "markdown",
   "source": "## 文档分割",
   "id": "3c670b3a69c02a78"
  },
  {
   "metadata": {
    "ExecuteTime": {
     "end_time": "2024-06-24T13:13:41.280569Z",
     "start_time": "2024-06-24T13:13:41.269410Z"
    }
   },
   "cell_type": "code",
   "source": [
    "''' \n",
    "* RecursiveCharacterTextSplitter 递归字符文本分割\n",
    "RecursiveCharacterTextSplitter 将按不同的字符递归地分割(按照这个优先级[\"\\n\\n\", \"\\n\", \" \", \"\"])，\n",
    "    这样就能尽量把所有和语义相关的内容尽可能长时间地保留在同一位置\n",
    "RecursiveCharacterTextSplitter需要关注的是4个参数：\n",
    "\n",
    "* separators - 分隔符字符串数组\n",
    "* chunk_size - 每个文档的字符数量限制\n",
    "* chunk_overlap - 两份文档重叠区域的长度\n",
    "* length_function - 长度计算函数\n",
    "'''\n",
    "#导入文本分割器\n",
    "from langchain.text_splitter import RecursiveCharacterTextSplitter\n"
   ],
   "id": "29925b317f870c2c",
   "outputs": [],
   "execution_count": 17
  },
  {
   "metadata": {
    "ExecuteTime": {
     "end_time": "2024-06-24T13:13:41.294880Z",
     "start_time": "2024-06-24T13:13:41.282453Z"
    }
   },
   "cell_type": "code",
   "source": [
    "# 知识库中单段文本长度\n",
    "CHUNK_SIZE = 500\n",
    "\n",
    "# 知识库中相邻文本重合长度\n",
    "OVERLAP_SIZE = 50\n"
   ],
   "id": "86c244e791287b5c",
   "outputs": [],
   "execution_count": 18
  },
  {
   "metadata": {
    "ExecuteTime": {
     "end_time": "2024-06-24T13:13:41.311537Z",
     "start_time": "2024-06-24T13:13:41.296266Z"
    }
   },
   "cell_type": "code",
   "source": [
    "# 使用递归字符文本分割器 通过递归的方式进行，意味着它会重复地将文本分割，直到满足特定的条件\n",
    "text_splitter = RecursiveCharacterTextSplitter(\n",
    "    chunk_size=CHUNK_SIZE,\n",
    "    chunk_overlap=OVERLAP_SIZE\n",
    ")\n",
    "text_splitter.split_text(pdf_page.page_content[0:1000])\n"
   ],
   "id": "691068b683814b60",
   "outputs": [
    {
     "data": {
      "text/plain": [
       "['前言\\n“周志华老师的《机器学习》（西瓜书）是机器学习领域的经典入门教材之一，周老师为了使尽可能多的读者通过西瓜书对机器学习有所了解,所以在书中对部分公式的推导细节没有详述，但是这对那些想深究公式推导细节的读者来说可能“不太友好”，本书旨在对西瓜书里比较难理解的公式加以解析，以及对部分公式补充具体的推导细节。”\\n读到这里，大家可能会疑问为啥前面这段话加了引号，因为这只是我们最初的遐想，后来我们了解到，周老师之所以省去这些推导细节的真实原因是，他本尊认为“理工科数学基础扎实点的大二下学生应该对西瓜书中的推导细节无困难吧，要点在书里都有了，略去的细节应能脑补或做练习”。所以......本南瓜书只能算是我等数学渣渣在自学的时候记下来的笔记，希望能够帮助大家都成为一名合格的“理工科数学基础扎实点的大二下学生”。\\n使用说明',\n",
       " '使用说明\\n南瓜书的所有内容都是以西瓜书的内容为前置知识进行表述的，所以南瓜书的最佳使用方法是以西瓜书为主线，遇到自己推导不出来或者看不懂的公式时再来查阅南瓜书；对于初学机器学习的小白，西瓜书第1章和第2章的公式强烈不建议深究，简单过一下即可，等你学得有点飘的时候再回来啃都来得及；每个公式的解析和推导我们都力(zhi)争(neng)以本科数学基础的视角进行讲解，所以超纲的数学知识我们通常都会以附录和参考文献的形式给出，感兴趣的同学可以继续沿着我们给的资料进行深入学习；若南瓜书里没有你想要查阅的公式，\\n或者你发现南瓜书哪个地方有错误，\\n请毫不犹豫地去我们GitHub的\\nIssues（地址：https://github.com/datawhalechina/pumpkin-book/issues）进行反馈，在对应版块提交你希望补充的公式编号或者勘误信息，我们通常会在24小时以内给您回复，超过24小时未回复的话可以微信联系我们（微信号：at-Sm1les）；\\n配套视频教程：https://www.bilibili.com/video/BV1Mh411e7VU',\n",
       " '在线阅读地址：https://datawhalechina.github.io/pumpkin-book（仅供第1版）\\n最新版PDF获取地址：https://github.com/datawhalechina/pumpkin-book/releases\\n编委会主编：Sm1les、archwalker、jbb0523\\n编委']"
      ]
     },
     "execution_count": 19,
     "metadata": {},
     "output_type": "execute_result"
    }
   ],
   "execution_count": 19
  },
  {
   "metadata": {
    "ExecuteTime": {
     "end_time": "2024-06-24T13:16:37.773493Z",
     "start_time": "2024-06-24T13:16:37.715111Z"
    }
   },
   "cell_type": "code",
   "source": [
    "split_docs = text_splitter.split_documents(pdf_pages)\n",
    "print(f\"切分后的文件数量：{len(split_docs)}\")\n"
   ],
   "id": "8d14ef56ef5254cc",
   "outputs": [
    {
     "name": "stdout",
     "output_type": "stream",
     "text": [
      "切分后的文件数量：720\n"
     ]
    }
   ],
   "execution_count": 20
  },
  {
   "metadata": {
    "ExecuteTime": {
     "end_time": "2024-06-24T13:16:53.668854Z",
     "start_time": "2024-06-24T13:16:53.664249Z"
    }
   },
   "cell_type": "code",
   "source": "print(f\"切分后的字符数（可以用来大致评估 token 数）：{sum([len(doc.page_content) for doc in split_docs])}\")\n",
   "id": "9ae941d4ec82f3d3",
   "outputs": [
    {
     "name": "stdout",
     "output_type": "stream",
     "text": [
      "切分后的字符数（可以用来大致评估 token 数）：308917\n"
     ]
    }
   ],
   "execution_count": 21
  },
  {
   "metadata": {},
   "cell_type": "markdown",
   "source": "# 搭建并使用向量数据库",
   "id": "5b042701620ad681"
  },
  {
   "metadata": {},
   "cell_type": "markdown",
   "source": "加载文档",
   "id": "455845fa00645c60"
  },
  {
   "metadata": {
    "ExecuteTime": {
     "end_time": "2024-06-24T13:29:53.483211Z",
     "start_time": "2024-06-24T13:29:53.473848Z"
    }
   },
   "cell_type": "code",
   "source": [
    "import os\n",
    "from dotenv import load_dotenv, find_dotenv\n",
    "\n",
    "# 读取本地/项目的环境变量。\n",
    "# find_dotenv()寻找并定位.env文件的路径\n",
    "# load_dotenv()读取该.env文件，并将其中的环境变量加载到当前的运行环境中  \n",
    "# 如果你设置的是全局的环境变量，这行代码则没有任何作用。\n",
    "_ = load_dotenv(find_dotenv())\n",
    "\n",
    "# 如果你需要通过代理端口访问，你需要如下配置\n",
    "# os.environ['HTTPS_PROXY'] = 'http://127.0.0.1:7890'\n",
    "# os.environ[\"HTTP_PROXY\"] = 'http://127.0.0.1:7890'\n",
    "\n",
    "# 获取folder_path下所有文件路径，储存在file_paths里\n",
    "file_paths = []\n",
    "folder_path = '../llm-universe/data_base/knowledge_db'\n",
    "for root, dirs, files in os.walk(folder_path):   # os.walk()生成一个三元组(root, dirs, files)\n",
    "    for file in files:\n",
    "        file_path = os.path.join(root, file)\n",
    "        file_paths.append(file_path)\n",
    "print(file_paths[:3])\n",
    "print(file_paths)"
   ],
   "id": "9c23aaad98a4652d",
   "outputs": [
    {
     "name": "stdout",
     "output_type": "stream",
     "text": [
      "['../llm-universe/data_base/knowledge_db/prompt_engineering/9. 总结 Summary.md', '../llm-universe/data_base/knowledge_db/prompt_engineering/4. 文本概括 Summarizing.md', '../llm-universe/data_base/knowledge_db/prompt_engineering/8. 聊天机器人 Chatbot.md']\n",
      "['../llm-universe/data_base/knowledge_db/prompt_engineering/9. 总结 Summary.md', '../llm-universe/data_base/knowledge_db/prompt_engineering/4. 文本概括 Summarizing.md', '../llm-universe/data_base/knowledge_db/prompt_engineering/8. 聊天机器人 Chatbot.md', '../llm-universe/data_base/knowledge_db/prompt_engineering/3. 迭代优化 Iterative.md', '../llm-universe/data_base/knowledge_db/prompt_engineering/7. 文本扩展 Expanding.md', '../llm-universe/data_base/knowledge_db/prompt_engineering/5. 推断 Inferring.md', '../llm-universe/data_base/knowledge_db/prompt_engineering/2. 提示原则 Guidelines.md', '../llm-universe/data_base/knowledge_db/prompt_engineering/6. 文本转换 Transforming.md', '../llm-universe/data_base/knowledge_db/prompt_engineering/1. 简介 Introduction.md', '../llm-universe/data_base/knowledge_db/pumkin_book/pumpkin_book.pdf', '../llm-universe/data_base/knowledge_db/easy_rl/强化学习入门指南.tsv', '../llm-universe/data_base/knowledge_db/easy_rl/强化学习入门指南.json', '../llm-universe/data_base/knowledge_db/easy_rl/强化学习入门指南.srt', '../llm-universe/data_base/knowledge_db/easy_rl/强化学习入门指南.txt', '../llm-universe/data_base/knowledge_db/easy_rl/强化学习入门指南.mp4', '../llm-universe/data_base/knowledge_db/easy_rl/强化学习入门指南.vtt']\n"
     ]
    }
   ],
   "execution_count": 25
  },
  {
   "metadata": {},
   "cell_type": "markdown",
   "source": "读取文档",
   "id": "dedbd8cd2d757f75"
  },
  {
   "metadata": {
    "ExecuteTime": {
     "end_time": "2024-06-24T13:27:00.654152Z",
     "start_time": "2024-06-24T13:27:00.649399Z"
    }
   },
   "cell_type": "code",
   "source": [
    "from langchain.document_loaders.pdf import PyMuPDFLoader\n",
    "from langchain.document_loaders.markdown import UnstructuredMarkdownLoader\n",
    "\n",
    "# 遍历文件路径并把实例化的loader存放在loaders里\n",
    "loaders = []\n",
    "\n",
    "for file_path in file_paths:\n",
    "\n",
    "    file_type = file_path.split('.')[-1]\n",
    "    if file_type == 'pdf':\n",
    "        loaders.append(PyMuPDFLoader(file_path))\n",
    "    elif file_type == 'md':\n",
    "        loaders.append(UnstructuredMarkdownLoader(file_path))\n"
   ],
   "id": "37f105d639fa4503",
   "outputs": [],
   "execution_count": 24
  },
  {
   "metadata": {
    "ExecuteTime": {
     "end_time": "2024-06-24T13:33:05.026683Z",
     "start_time": "2024-06-24T13:33:03.565587Z"
    }
   },
   "cell_type": "code",
   "source": [
    "# 下载文件并存储到text\n",
    "texts = []\n",
    "\n",
    "for loader in loaders: texts.extend(loader.load())\n"
   ],
   "id": "5f6ab5693c2e3e18",
   "outputs": [],
   "execution_count": 26
  },
  {
   "metadata": {
    "ExecuteTime": {
     "end_time": "2024-06-24T13:33:50.471474Z",
     "start_time": "2024-06-24T13:33:50.466989Z"
    }
   },
   "cell_type": "code",
   "source": [
    "text = texts[1]\n",
    "print(f\"每一个元素的类型：{type(text)}.\", \n",
    "    f\"该文档的描述性数据：{text.metadata}\", \n",
    "    f\"查看该文档的内容:\\n{text.page_content[0:]}\", \n",
    "    sep=\"\\n------\\n\")\n"
   ],
   "id": "74bf7e2534b7aff8",
   "outputs": [
    {
     "name": "stdout",
     "output_type": "stream",
     "text": [
      "每一个元素的类型：<class 'langchain_core.documents.base.Document'>.\n",
      "------\n",
      "该文档的描述性数据：{'source': '../llm-universe/data_base/knowledge_db/prompt_engineering/4. 文本概括 Summarizing.md'}\n",
      "------\n",
      "查看该文档的内容:\n",
      "第四章 文本概括\n",
      "\n",
      "在繁忙的信息时代，小明是一名热心的开发者，面临着海量的文本信息处理的挑战。他需要通过研究无数的文献资料来为他的项目找到关键的信息，但是时间却远远不够。在他焦头烂额之际，他发现了大型语言模型（LLM）的文本摘要功能。\n",
      "\n",
      "这个功能对小明来说如同灯塔一样，照亮了他处理信息海洋的道路。LLM 的强大能力在于它可以将复杂的文本信息简化，提炼出关键的观点，这对于他来说无疑是巨大的帮助。他不再需要花费大量的时间去阅读所有的文档，只需要用 LLM 将它们概括，就可以快速获取到他所需要的信息。\n",
      "\n",
      "通过编程调用 AP I接口，小明成功实现了这个文本摘要的功能。他感叹道：“这简直就像一道魔法，将无尽的信息海洋变成了清晰的信息源泉。”小明的经历，展现了LLM文本摘要功能的巨大优势：节省时间，提高效率，以及精准获取信息。这就是我们本章要介绍的内容，让我们一起来探索如何利用编程和调用API接口，掌握这个强大的工具。\n",
      "\n",
      "一、单一文本概括\n",
      "\n",
      "以商品评论的总结任务为例：对于电商平台来说，网站上往往存在着海量的商品评论，这些评论反映了所有客户的想法。如果我们拥有一个工具去概括这些海量、冗长的评论，便能够快速地浏览更多评论，洞悉客户的偏好，从而指导平台与商家提供更优质的服务。\n",
      "\n",
      "接下来我们提供一段在线商品评价作为示例，可能来自于一个在线购物平台，例如亚马逊、淘宝、京东等。评价者为一款熊猫公仔进行了点评，评价内容包括商品的质量、大小、价格和物流速度等因素，以及他的女儿对该商品的喜爱程度。\n",
      "\n",
      "python\n",
      "prod_review = \"\"\"\n",
      "这个熊猫公仔是我给女儿的生日礼物，她很喜欢，去哪都带着。\n",
      "公仔很软，超级可爱，面部表情也很和善。但是相比于价钱来说，\n",
      "它有点小，我感觉在别的地方用同样的价钱能买到更大的。\n",
      "快递比预期提前了一天到货，所以在送给女儿之前，我自己玩了会。\n",
      "\"\"\"\n",
      "\n",
      "1.1 限制输出文本长度\n",
      "\n",
      "我们首先尝试将文本的长度限制在30个字以内。\n",
      "\n",
      "```python\n",
      "from tool import get_completion\n",
      "\n",
      "prompt = f\"\"\"\n",
      "您的任务是从电子商务网站上生成一个产品评论的简短摘要。\n",
      "\n",
      "请对三个反引号之间的评论文本进行概括，最多30个字。\n",
      "\n",
      "评论: {prod_review}\n",
      "\"\"\"\n",
      "\n",
      "response = get_completion(prompt)\n",
      "print(response)\n",
      "```\n",
      "\n",
      "我们可以看到语言模型给了我们一个符合要求的结果。\n",
      "\n",
      "注意：在上一节中我们提到了语言模型在计算和判断文本长度时依赖于分词器，而分词器在字符统计方面不具备完美精度。\n",
      "\n",
      "1.2 设置关键角度侧重\n",
      "\n",
      "在某些情况下，我们会针对不同的业务场景对文本的侧重会有所不同。例如，在商品评论文本中，物流部门可能更专注于运输的时效性，商家则更关注价格和商品质量，而平台则更看重整体的用户体验。\n",
      "\n",
      "我们可以通过增强输入提示（Prompt），来强调我们对某一特定视角的重视。\n",
      "\n",
      "1.2.1 侧重于快递服务\n",
      "\n",
      "```python\n",
      "prompt = f\"\"\"\n",
      "您的任务是从电子商务网站上生成一个产品评论的简短摘要。\n",
      "\n",
      "请对三个反引号之间的评论文本进行概括，最多30个字，并且侧重在快递服务上。\n",
      "\n",
      "评论: {prod_review}\n",
      "\"\"\"\n",
      "\n",
      "response = get_completion(prompt)\n",
      "print(response)\n",
      "```\n",
      "\n",
      "通过输出结果，我们可以看到，文本以“快递提前到货”开头，体现了对于快递效率的侧重。\n",
      "\n",
      "1.2.2 侧重于价格与质量\n",
      "\n",
      "```python\n",
      "prompt = f\"\"\"\n",
      "您的任务是从电子商务网站上生成一个产品评论的简短摘要。\n",
      "\n",
      "请对三个反引号之间的评论文本进行概括，最多30个词汇，并且侧重在产品价格和质量上。\n",
      "\n",
      "评论: {prod_review}\n",
      "\"\"\"\n",
      "\n",
      "response = get_completion(prompt)\n",
      "print(response)\n",
      "```\n",
      "\n",
      "通过输出的结果，我们可以看到，文本以“可爱的熊猫公仔，质量好但有点小，价格稍高”开头，体现了对于产品价格与质量的侧重。\n",
      "\n",
      "1.3 关键信息提取\n",
      "\n",
      "在1.2节中，虽然我们通过添加关键角度侧重的 Prompt ，确实让文本摘要更侧重于某一特定方面，然而，我们可以发现，在结果中也会保留一些其他信息，比如偏重价格与质量角度的概括中仍保留了“快递提前到货”的信息。如果我们只想要提取某一角度的信息，并过滤掉其他所有信息，则可以要求 LLM 进行 文本提取（Extract） 而非概括( Summarize )。\n",
      "\n",
      "下面让我们来一起来对文本进行提取信息吧！\n",
      "\n",
      "```python\n",
      "prompt = f\"\"\"\n",
      "您的任务是从电子商务网站上的产品评论中提取相关信息。\n",
      "\n",
      "请从以下三个反引号之间的评论文本中提取产品运输相关的信息，最多30个词汇。\n",
      "\n",
      "评论: {prod_review}\n",
      "\"\"\"\n",
      "\n",
      "response = get_completion(prompt)\n",
      "print(response)\n",
      "```\n",
      "\n",
      "二、同时概括多条文本\n",
      "\n",
      "在实际的工作流中，我们往往要处理大量的评论文本，下面的示例将多条用户评价集合在一个列表中，并利用 for 循环和文本概括（Summarize）提示词，将评价概括至小于 20 个词以下，并按顺序打印。当然，在实际生产中，对于不同规模的评论文本，除了使用 for 循环以外，还可能需要考虑整合评论、分布式等方法提升运算效率。您可以搭建主控面板，来总结大量用户评论，以及方便您或他人快速浏览，还可以点击查看原评论。这样，您就能高效掌握顾客的所有想法。\n",
      "\n",
      "```python\n",
      "review_1 = prod_review\n",
      "\n",
      "一盏落地灯的评论\n",
      "\n",
      "review_2 = \"\"\"\n",
      "我需要一盏漂亮的卧室灯，这款灯不仅具备额外的储物功能，价格也并不算太高。\n",
      "收货速度非常快，仅用了两天的时间就送到了。\n",
      "不过，在运输过程中，灯的拉线出了问题，幸好，公司很乐意寄送了一根全新的灯线。\n",
      "新的灯线也很快就送到手了，只用了几天的时间。\n",
      "装配非常容易。然而，之后我发现有一个零件丢失了，于是我联系了客服，他们迅速地给我寄来了缺失的零件！\n",
      "对我来说，这是一家非常关心客户和产品的优秀公司。\n",
      "\"\"\"\n",
      "\n",
      "一把电动牙刷的评论\n",
      "\n",
      "review_3 = \"\"\"\n",
      "我的牙科卫生员推荐了电动牙刷，所以我就买了这款。\n",
      "到目前为止，电池续航表现相当不错。\n",
      "初次充电后，我在第一周一直将充电器插着，为的是对电池进行条件养护。\n",
      "过去的3周里，我每天早晚都使用它刷牙，但电池依然维持着原来的充电状态。\n",
      "不过，牙刷头太小了。我见过比这个牙刷头还大的婴儿牙刷。\n",
      "我希望牙刷头更大一些，带有不同长度的刷毛，\n",
      "这样可以更好地清洁牙齿间的空隙，但这款牙刷做不到。\n",
      "总的来说，如果你能以50美元左右的价格购买到这款牙刷，那是一个不错的交易。\n",
      "制造商的替换刷头相当昂贵，但你可以购买价格更为合理的通用刷头。\n",
      "这款牙刷让我感觉就像每天都去了一次牙医，我的牙齿感觉非常干净！\n",
      "\"\"\"\n",
      "\n",
      "一台搅拌机的评论\n",
      "\n",
      "review_4 = \"\"\"\n",
      "在11月份期间，这个17件套装还在季节性促销中，售价约为49美元，打了五折左右。\n",
      "可是由于某种原因（我们可以称之为价格上涨），到了12月的第二周，所有的价格都上涨了，\n",
      "同样的套装价格涨到了70-89美元不等。而11件套装的价格也从之前的29美元上涨了约10美元。\n",
      "看起来还算不错，但是如果你仔细看底座，刀片锁定的部分看起来没有前几年版本的那么漂亮。\n",
      "然而，我打算非常小心地使用它\n",
      "（例如，我会先在搅拌机中研磨豆类、冰块、大米等坚硬的食物，然后再将它们研磨成所需的粒度，\n",
      "接着切换到打蛋器刀片以获得更细的面粉，如果我需要制作更细腻/少果肉的食物）。\n",
      "在制作冰沙时，我会将要使用的水果和蔬菜切成细小块并冷冻\n",
      "（如果使用菠菜，我会先轻微煮熟菠菜，然后冷冻，直到使用时准备食用。\n",
      "如果要制作冰糕，我会使用一个小到中号的食物加工器），这样你就可以避免添加过多的冰块。\n",
      "大约一年后，电机开始发出奇怪的声音。我打电话给客户服务，但保修期已经过期了，\n",
      "所以我只好购买了另一台。值得注意的是，这类产品的整体质量在过去几年里有所下降\n",
      "，所以他们在一定程度上依靠品牌认知和消费者忠诚来维持销售。在大约两天内，我收到了新的搅拌机。\n",
      "\"\"\"\n",
      "\n",
      "reviews = [review_1, review_2, review_3, review_4]\n",
      "\n",
      "```\n",
      "\n",
      "```python\n",
      "for i in range(len(reviews)):\n",
      "    prompt = f\"\"\"\n",
      "    你的任务是从电子商务网站上的产品评论中提取相关信息。\n",
      "\n",
      "```\n",
      "\n",
      "三、英文版\n",
      "\n",
      "1.1 单一文本概括\n",
      "\n",
      "python\n",
      "prod_review = \"\"\"\n",
      "Got this panda plush toy for my daughter's birthday, \\\n",
      "who loves it and takes it everywhere. It's soft and \\ \n",
      "super cute, and its face has a friendly look. It's \\ \n",
      "a bit small for what I paid though. I think there \\ \n",
      "might be other options that are bigger for the \\ \n",
      "same price. It arrived a day earlier than expected, \\ \n",
      "so I got to play with it myself before I gave it \\ \n",
      "to her.\n",
      "\"\"\"\n",
      "\n",
      "```python\n",
      "prompt = f\"\"\"\n",
      "Your task is to generate a short summary of a product \\\n",
      "review from an ecommerce site.\n",
      "\n",
      "Summarize the review below, delimited by triple \n",
      "backticks, in at most 30 words.\n",
      "\n",
      "Review: {prod_review}\n",
      "\"\"\"\n",
      "\n",
      "response = get_completion(prompt)\n",
      "print(response)\n",
      "```\n",
      "\n",
      "1.2 设置关键角度侧重\n",
      "\n",
      "1.2.1 侧重于快递服务\n",
      "\n",
      "```python\n",
      "prompt = f\"\"\"\n",
      "Your task is to generate a short summary of a product \\\n",
      "review from an ecommerce site to give feedback to the \\\n",
      "Shipping deparmtment.\n",
      "\n",
      "Summarize the review below, delimited by triple \n",
      "backticks, in at most 30 words, and focusing on any aspects \\\n",
      "that mention shipping and delivery of the product.\n",
      "\n",
      "Review: {prod_review}\n",
      "\"\"\"\n",
      "\n",
      "response = get_completion(prompt)\n",
      "print(response)\n",
      "```\n",
      "\n",
      "1.2.2 侧重于价格和质量\n",
      "\n",
      "```python\n",
      "prompt = f\"\"\"\n",
      "Your task is to generate a short summary of a product \\\n",
      "review from an ecommerce site to give feedback to the \\\n",
      "pricing deparmtment, responsible for determining the \\\n",
      "price of the product.\n",
      "\n",
      "Summarize the review below, delimited by triple \n",
      "backticks, in at most 30 words, and focusing on any aspects \\\n",
      "that are relevant to the price and perceived value.\n",
      "\n",
      "Review: {prod_review}\n",
      "\"\"\"\n",
      "\n",
      "response = get_completion(prompt)\n",
      "print(response)\n",
      "```\n",
      "\n",
      "1.3 关键信息提取\n",
      "\n",
      "```python\n",
      "prompt = f\"\"\"\n",
      "Your task is to extract relevant information from \\ \n",
      "a product review from an ecommerce site to give \\\n",
      "feedback to the Shipping department.\n",
      "\n",
      "From the review below, delimited by triple quotes \\\n",
      "extract the information relevant to shipping and \\ \n",
      "delivery. Limit to 30 words.\n",
      "\n",
      "Review: {prod_review}\n",
      "\"\"\"\n",
      "\n",
      "response = get_completion(prompt)\n",
      "print(response)\n",
      "```\n",
      "\n",
      "2.1 同时概括多条文本\n",
      "\n",
      "```python\n",
      "review_1 = prod_review\n",
      "\n",
      "review for a standing lamp\n",
      "\n",
      "review_2 = \"\"\"\n",
      "Needed a nice lamp for my bedroom, and this one \\\n",
      "had additional storage and not too high of a price \\\n",
      "point. Got it fast - arrived in 2 days. The string \\\n",
      "to the lamp broke during the transit and the company \\\n",
      "happily sent over a new one. Came within a few days \\\n",
      "as well. It was easy to put together. Then I had a \\\n",
      "missing part, so I contacted their support and they \\\n",
      "very quickly got me the missing piece! Seems to me \\\n",
      "to be a great company that cares about their customers \\\n",
      "and products. \n",
      "\"\"\"\n",
      "\n",
      "review for an electric toothbrush\n",
      "\n",
      "review_3 = \"\"\"\n",
      "My dental hygienist recommended an electric toothbrush, \\\n",
      "which is why I got this. The battery life seems to be \\\n",
      "pretty impressive so far. After initial charging and \\\n",
      "leaving the charger plugged in for the first week to \\\n",
      "condition the battery, I've unplugged the charger and \\\n",
      "been using it for twice daily brushing for the last \\\n",
      "3 weeks all on the same charge. But the toothbrush head \\\n",
      "is too small. I’ve seen baby toothbrushes bigger than \\\n",
      "this one. I wish the head was bigger with different \\\n",
      "length bristles to get between teeth better because \\\n",
      "this one doesn’t.  Overall if you can get this one \\\n",
      "around the $50 mark, it's a good deal. The manufactuer's \\\n",
      "replacements heads are pretty expensive, but you can \\\n",
      "get generic ones that're more reasonably priced. This \\\n",
      "toothbrush makes me feel like I've been to the dentist \\\n",
      "every day. My teeth feel sparkly clean! \n",
      "\"\"\"\n",
      "\n",
      "review for a blender\n",
      "\n",
      "review_4 = \"\"\"\n",
      "So, they still had the 17 piece system on seasonal \\\n",
      "sale for around $49 in the month of November, about \\\n",
      "half off, but for some reason (call it price gouging) \\\n",
      "around the second week of December the prices all went \\\n",
      "up to about anywhere from between $70-$89 for the same \\\n",
      "system. And the 11 piece system went up around $10 or \\\n",
      "so in price also from the earlier sale price of $29. \\\n",
      "So it looks okay, but if you look at the base, the part \\\n",
      "where the blade locks into place doesn’t look as good \\\n",
      "as in previous editions from a few years ago, but I \\\n",
      "plan to be very gentle with it (example, I crush \\\n",
      "very hard items like beans, ice, rice, etc. in the \\\n",
      "blender first then pulverize them in the serving size \\\n",
      "I want in the blender then switch to the whipping \\\n",
      "blade for a finer flour, and use the cross cutting blade \\\n",
      "first when making smoothies, then use the flat blade \\\n",
      "if I need them finer/less pulpy). Special tip when making \\\n",
      "smoothies, finely cut and freeze the fruits and \\\n",
      "vegetables (if using spinach-lightly stew soften the \\\n",
      "spinach then freeze until ready for use-and if making \\\n",
      "sorbet, use a small to medium sized food processor) \\\n",
      "that you plan to use that way you can avoid adding so \\\n",
      "much ice if at all-when making your smoothie. \\\n",
      "After about a year, the motor was making a funny noise. \\\n",
      "I called customer service but the warranty expired \\\n",
      "already, so I had to buy another one. FYI: The overall \\\n",
      "quality has gone done in these types of products, so \\\n",
      "they are kind of counting on brand recognition and \\\n",
      "consumer loyalty to maintain sales. Got it in about \\\n",
      "two days.\n",
      "\"\"\"\n",
      "\n",
      "reviews = [review_1, review_2, review_3, review_4]\n",
      "```\n",
      "\n",
      "```python\n",
      "for i in range(len(reviews)):\n",
      "    prompt = f\"\"\"\n",
      "    Your task is to generate a short summary of a product \\\n",
      "    review from an ecommerce site.\n",
      "\n",
      "```\n"
     ]
    }
   ],
   "execution_count": 27
  },
  {
   "metadata": {},
   "cell_type": "markdown",
   "source": "文档分割",
   "id": "f7298f7c60d294ef"
  },
  {
   "metadata": {
    "ExecuteTime": {
     "end_time": "2024-06-24T13:34:03.540375Z",
     "start_time": "2024-06-24T13:34:03.480284Z"
    }
   },
   "cell_type": "code",
   "source": [
    "from langchain.text_splitter import RecursiveCharacterTextSplitter\n",
    "\n",
    "# 切分文档\n",
    "text_splitter = RecursiveCharacterTextSplitter(\n",
    "    chunk_size=500, chunk_overlap=50)\n",
    "\n",
    "split_docs = text_splitter.split_documents(texts)\n"
   ],
   "id": "10b25c7e7d072488",
   "outputs": [],
   "execution_count": 28
  },
  {
   "metadata": {},
   "cell_type": "markdown",
   "source": "自定义embedding",
   "id": "9d9332f7fb2ca649"
  },
  {
   "metadata": {},
   "cell_type": "markdown",
   "source": "这部分需要封装到.py中放在调用的同一目录下",
   "id": "bd7a81c6cd1b3304"
  },
  {
   "metadata": {
    "ExecuteTime": {
     "end_time": "2024-06-24T13:39:50.088412Z",
     "start_time": "2024-06-24T13:39:50.074438Z"
    }
   },
   "cell_type": "code",
   "source": [
    "from __future__ import annotations\n",
    "\n",
    "import logging\n",
    "from typing import Dict, List, Any\n",
    "\n",
    "from langchain.embeddings.base import Embeddings\n",
    "from langchain.pydantic_v1 import BaseModel, root_validator\n",
    "\n",
    "logger = logging.getLogger(__name__)\n"
   ],
   "id": "403418f87a667089",
   "outputs": [],
   "execution_count": 29
  },
  {
   "metadata": {},
   "cell_type": "markdown",
   "source": [
    "Dict：用于注解字典类型。\n",
    "List：用于注解列表类型。\n",
    "Any：用于注解时表示可以接受任何类型。\n",
    "BaseModel是pydantic库中的一个类，用于创建带有数据验证和设置的模型类。root_validator是一个装饰器，用于在模型实例化后立即对所有根级别数据进行验证。"
   ],
   "id": "7422c32a6804d00d"
  },
  {
   "metadata": {
    "ExecuteTime": {
     "end_time": "2024-06-24T13:42:48.711261Z",
     "start_time": "2024-06-24T13:42:48.706692Z"
    }
   },
   "cell_type": "code",
   "source": [
    "class ZhipuAIEmbeddings(BaseModel, Embeddings):\n",
    "    \"\"\"`Zhipuai Embeddings` embedding models.\"\"\"\n",
    "\n",
    "    client: Any\n",
    "    \"\"\"`zhipuai.ZhipuAI\"\"\"\n"
   ],
   "id": "f07bd261f166441b",
   "outputs": [],
   "execution_count": 30
  },
  {
   "metadata": {},
   "cell_type": "markdown",
   "source": "在class中",
   "id": "3a7a3f65147f0b6b"
  },
  {
   "metadata": {
    "ExecuteTime": {
     "end_time": "2024-06-24T13:43:29.290876Z",
     "start_time": "2024-06-24T13:43:29.286346Z"
    }
   },
   "cell_type": "code",
   "source": [
    "@root_validator()\n",
    "def validate_environment(cls, values: Dict) -> Dict:\n",
    "    \"\"\"\n",
    "    实例化ZhipuAI为values[\"client\"]\n",
    "\n",
    "    Args:\n",
    "\n",
    "        values (Dict): 包含配置信息的字典，必须包含 client 的字段.\n",
    "    Returns:\n",
    "\n",
    "        values (Dict): 包含配置信息的字典。如果环境中有zhipuai库，则将返回实例化的ZhipuAI类；否则将报错 'ModuleNotFoundError: No module named 'zhipuai''.\n",
    "    \"\"\"\n",
    "    from zhipuai import ZhipuAI\n",
    "    values[\"client\"] = ZhipuAI()\n",
    "    return values\n"
   ],
   "id": "c9c2137bbe08de1f",
   "outputs": [],
   "execution_count": 31
  },
  {
   "metadata": {},
   "cell_type": "markdown",
   "source": "embed_query 是对单个文本（str）计算 embedding 的方法，这里我们重写该方法，调用验证环境时实例化的ZhipuAI来 调用远程 API 并返回 embedding 结果。",
   "id": "4481d20e3cc2b970"
  },
  {
   "metadata": {
    "ExecuteTime": {
     "end_time": "2024-06-24T13:45:41.852549Z",
     "start_time": "2024-06-24T13:45:41.848577Z"
    }
   },
   "cell_type": "code",
   "source": [
    "def embed_query(self, text: str) -> List[float]:\n",
    "    \"\"\"\n",
    "    生成输入文本的 embedding.\n",
    "\n",
    "    Args:\n",
    "        texts (str): 要生成 embedding 的文本.\n",
    "\n",
    "    Return:\n",
    "        embeddings (List[float]): 输入文本的 embedding，一个浮点数值列表.\n",
    "    \"\"\"\n",
    "    embeddings = self.client.embeddings.create(\n",
    "        model=\"embedding-2\",\n",
    "        input=text\n",
    "    )\n",
    "    return embeddings.data[0].embedding\n"
   ],
   "id": "2c5a6832f491a444",
   "outputs": [],
   "execution_count": 32
  },
  {
   "metadata": {},
   "cell_type": "markdown",
   "source": "embed_documents 是对字符串列表（List[str]）计算embedding 的方法，对于这种类型输入我们采取循环方式挨个计算列表内子字符串的 embedding 并返回。",
   "id": "e593dc73bf59d664"
  },
  {
   "metadata": {
    "ExecuteTime": {
     "end_time": "2024-06-24T13:46:26.906757Z",
     "start_time": "2024-06-24T13:46:26.902104Z"
    }
   },
   "cell_type": "code",
   "source": [
    "def embed_documents(self, texts: List[str]) -> List[List[float]]:\n",
    "    \"\"\"\n",
    "    生成输入文本列表的 embedding.\n",
    "    Args:\n",
    "        texts (List[str]): 要生成 embedding 的文本列表.\n",
    "\n",
    "    Returns:\n",
    "        List[List[float]]: 输入列表中每个文档的 embedding 列表。每个 embedding 都表示为一个浮点值列表。\n",
    "    \"\"\"\n",
    "    return [self.embed_query(text) for text in texts]\n"
   ],
   "id": "619b162c6146eae4",
   "outputs": [],
   "execution_count": 33
  },
  {
   "metadata": {},
   "cell_type": "markdown",
   "source": "对于 embed_query 可以加入一些内容处理后再请求 embedding，比如如果文本特别长，我们可以考虑对文本分段，防止超过最大 token 限制",
   "id": "9ba0e8f5962833f3"
  },
  {
   "metadata": {},
   "cell_type": "markdown",
   "source": "# chroma 数据库",
   "id": "6fa1055eb491225c"
  },
  {
   "metadata": {
    "ExecuteTime": {
     "end_time": "2024-06-24T13:58:14.809837Z",
     "start_time": "2024-06-24T13:58:14.794866Z"
    }
   },
   "cell_type": "code",
   "source": [
    "# 使用 OpenAI Embedding\n",
    "# from langchain.embeddings.openai import OpenAIEmbeddings\n",
    "# 使用百度千帆 Embedding\n",
    "# from langchain.embeddings.baidu_qianfan_endpoint import QianfanEmbeddingsEndpoint\n",
    "# 使用我们自己封装的智谱 Embedding，需要将封装代码下载到本地使用\n",
    "from zhipuai_embedding import ZhipuAIEmbeddings\n",
    "\n",
    "# 定义 Embeddings\n",
    "# embedding = OpenAIEmbeddings() \n",
    "embedding = ZhipuAIEmbeddings()\n",
    "# embedding = QianfanEmbeddingsEndpoint()\n",
    "\n",
    "# 定义持久化路径\n",
    "persist_directory = '../llm-universe/data_base/vector_db/chroma'\n"
   ],
   "id": "459e6606588876bf",
   "outputs": [],
   "execution_count": 35
  },
  {
   "metadata": {
    "ExecuteTime": {
     "end_time": "2024-06-24T13:58:49.863852Z",
     "start_time": "2024-06-24T13:58:49.727549Z"
    }
   },
   "cell_type": "code",
   "source": "!rm -rf '../../data_base/vector_db/chroma'  # 删除旧的数据库文件（如果文件夹中有文件的话），windows电脑请手动删除\n",
   "id": "d363d9649ff8868a",
   "outputs": [],
   "execution_count": 36
  },
  {
   "metadata": {
    "ExecuteTime": {
     "end_time": "2024-06-24T13:59:24.175603Z",
     "start_time": "2024-06-24T13:59:23.206616Z"
    }
   },
   "cell_type": "code",
   "source": [
    "from langchain.vectorstores.chroma import Chroma\n",
    "\n",
    "vectordb = Chroma.from_documents(\n",
    "    documents=split_docs[:5], # 为了速度，只选择前 20 个切分的 doc 进行生成；使用千帆时因QPS限制，建议选择前 5 个doc\n",
    "    embedding=embedding,\n",
    "    persist_directory=persist_directory  # 允许我们将persist_directory目录保存到磁盘上\n",
    ")\n"
   ],
   "id": "49138f274ebb4cbd",
   "outputs": [],
   "execution_count": 38
  },
  {
   "metadata": {
    "ExecuteTime": {
     "end_time": "2024-06-24T14:00:02.117496Z",
     "start_time": "2024-06-24T14:00:02.113487Z"
    }
   },
   "cell_type": "code",
   "source": [
    "# 保存\n",
    "vectordb.persist()\n"
   ],
   "id": "6f4ec179e2ccffa8",
   "outputs": [],
   "execution_count": 39
  },
  {
   "metadata": {
    "ExecuteTime": {
     "end_time": "2024-06-24T14:00:10.103790Z",
     "start_time": "2024-06-24T14:00:10.098978Z"
    }
   },
   "cell_type": "code",
   "source": "print(f\"向量库中存储的数量：{vectordb._collection.count()}\")\n",
   "id": "167e963f26df6cfa",
   "outputs": [
    {
     "name": "stdout",
     "output_type": "stream",
     "text": [
      "向量库中存储的数量：25\n"
     ]
    }
   ],
   "execution_count": 40
  },
  {
   "metadata": {},
   "cell_type": "markdown",
   "source": "# 向量检索",
   "id": "a599c2d8f34bb821"
  },
  {
   "metadata": {},
   "cell_type": "markdown",
   "source": "通过余弦相似度",
   "id": "32c3e44bf95f226f"
  },
  {
   "metadata": {
    "ExecuteTime": {
     "end_time": "2024-06-24T14:01:25.762724Z",
     "start_time": "2024-06-24T14:01:25.380969Z"
    }
   },
   "cell_type": "code",
   "source": [
    "question=\"什么是大语言模型\"\n",
    "sim_docs = vectordb.similarity_search(question,k=3)\n",
    "print(f\"检索到的内容数：{len(sim_docs)}\")\n"
   ],
   "id": "aa48d24618a8f700",
   "outputs": [
    {
     "name": "stdout",
     "output_type": "stream",
     "text": [
      "检索到的内容数：3\n"
     ]
    }
   ],
   "execution_count": 41
  },
  {
   "metadata": {
    "ExecuteTime": {
     "end_time": "2024-06-24T14:02:08.186095Z",
     "start_time": "2024-06-24T14:02:08.181543Z"
    }
   },
   "cell_type": "code",
   "source": [
    "for i, sim_doc in enumerate(sim_docs):\n",
    "    print(f\"检索到的第{i}个内容: \\n{sim_doc.page_content[:200]}\", end=\"\\n--------------\\n\")\n"
   ],
   "id": "acdb4d9ce3d067de",
   "outputs": [
    {
     "name": "stdout",
     "output_type": "stream",
     "text": [
      "检索到的第0个内容: \n",
      "第四章 文本概括\n",
      "\n",
      "在繁忙的信息时代，小明是一名热心的开发者，面临着海量的文本信息处理的挑战。他需要通过研究无数的文献资料来为他的项目找到关键的信息，但是时间却远远不够。在他焦头烂额之际，他发现了大型语言模型（LLM）的文本摘要功能。\n",
      "\n",
      "这个功能对小明来说如同灯塔一样，照亮了他处理信息海洋的道路。LLM 的强大能力在于它可以将复杂的文本信息简化，提炼出关键的观点，这对于他来说无疑是巨大的帮助。他不\n",
      "--------------\n",
      "检索到的第1个内容: \n",
      "一、单一文本概括\n",
      "\n",
      "以商品评论的总结任务为例：对于电商平台来说，网站上往往存在着海量的商品评论，这些评论反映了所有客户的想法。如果我们拥有一个工具去概括这些海量、冗长的评论，便能够快速地浏览更多评论，洞悉客户的偏好，从而指导平台与商家提供更优质的服务。\n",
      "\n",
      "接下来我们提供一段在线商品评价作为示例，可能来自于一个在线购物平台，例如亚马逊、淘宝、京东等。评价者为一款熊猫公仔进行了点评，评价内容包括商品的\n",
      "--------------\n",
      "检索到的第2个内容: \n",
      "第九章 总结\n",
      "\n",
      "恭喜您完成了本书第一单元内容的学习！\n",
      "\n",
      "总的来说，在第一部分中，我们学习并掌握了关于 Prompt 的两个核心原则：\n",
      "\n",
      "编写清晰具体的指令；\n",
      "\n",
      "如果适当的话，给模型一些思考时间。\n",
      "\n",
      "您还学习了迭代式 Prompt 开发的方法，并了解了如何找到适合您应用程序的 Prompt 的过程是非常关键的。\n",
      "\n",
      "我们还讨论了大型语言模型的许多功能，包括摘要、推断、转换和扩展。您也学习了如何搭建个性\n",
      "--------------\n"
     ]
    }
   ],
   "execution_count": 42
  },
  {
   "metadata": {},
   "cell_type": "markdown",
   "source": "可以看到相关是相关，但是有用的信息很少",
   "id": "4df9e6dc8ce9fa35"
  },
  {
   "metadata": {},
   "cell_type": "markdown",
   "source": "",
   "id": "72ec3c818e40964c"
  },
  {
   "metadata": {
    "ExecuteTime": {
     "end_time": "2024-06-24T14:07:42.032771Z",
     "start_time": "2024-06-24T14:07:41.597015Z"
    }
   },
   "cell_type": "code",
   "source": [
    "mmr_docs = vectordb.max_marginal_relevance_search(question,k=3)\n",
    "for i, sim_doc in enumerate(mmr_docs):\n",
    "    print(f\"MMR 检索到的第{i}个内容: \\n{sim_doc.page_content[:200]}\", end=\"\\n--------------\\n\")\n"
   ],
   "id": "6dbe75f2e68d4b4a",
   "outputs": [
    {
     "name": "stdout",
     "output_type": "stream",
     "text": [
      "MMR 检索到的第0个内容: \n",
      "第四章 文本概括\n",
      "\n",
      "在繁忙的信息时代，小明是一名热心的开发者，面临着海量的文本信息处理的挑战。他需要通过研究无数的文献资料来为他的项目找到关键的信息，但是时间却远远不够。在他焦头烂额之际，他发现了大型语言模型（LLM）的文本摘要功能。\n",
      "\n",
      "这个功能对小明来说如同灯塔一样，照亮了他处理信息海洋的道路。LLM 的强大能力在于它可以将复杂的文本信息简化，提炼出关键的观点，这对于他来说无疑是巨大的帮助。他不\n",
      "--------------\n",
      "MMR 检索到的第1个内容: \n",
      "\u0001本\u0003:1.9.9\n",
      "发布日期:2023.03\n",
      "南  ⽠  书\n",
      "PUMPKIN\n",
      "B  O  O  K\n",
      "Datawhale\n",
      "--------------\n",
      "MMR 检索到的第2个内容: \n",
      "→_→\n",
      "欢迎去各大电商平台选购纸质版南瓜书《机器学习公式详解》\n",
      "←_←\n",
      "3.3.1\n",
      "式(3.27) 的推导\n",
      ". . . . . . . . . . . . . . . . . . . . . . . . . . . . . . . . . . . . .\n",
      "23\n",
      "3.3.2\n",
      "梯度下降法. . . . . . . . . . . . . . . . . . . . . . . . . . . . . \n",
      "--------------\n"
     ]
    }
   ],
   "execution_count": 43
  },
  {
   "metadata": {},
   "cell_type": "code",
   "outputs": [],
   "execution_count": null,
   "source": "",
   "id": "657102b9f3d2fad9"
  }
 ],
 "metadata": {
  "kernelspec": {
   "display_name": "Python 3",
   "language": "python",
   "name": "python3"
  },
  "language_info": {
   "codemirror_mode": {
    "name": "ipython",
    "version": 2
   },
   "file_extension": ".py",
   "mimetype": "text/x-python",
   "name": "python",
   "nbconvert_exporter": "python",
   "pygments_lexer": "ipython2",
   "version": "2.7.6"
  }
 },
 "nbformat": 4,
 "nbformat_minor": 5
}
